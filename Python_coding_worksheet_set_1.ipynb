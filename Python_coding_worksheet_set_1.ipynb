{
 "cells": [
  {
   "cell_type": "markdown",
   "id": "75d84643",
   "metadata": {},
   "source": [
    "11. Write a python program to find the factorial of a number."
   ]
  },
  {
   "cell_type": "code",
   "execution_count": 1,
   "id": "d80b4a62",
   "metadata": {},
   "outputs": [
    {
     "name": "stdout",
     "output_type": "stream",
     "text": [
      "Enter a Number: 5\n",
      "The Factorial of 5 is 1\n"
     ]
    }
   ],
   "source": [
    "#Declared a num varialbe that takes an integer as an input from the user\n",
    "num = int(input(\"Enter a Number: \"))\n",
    "\n",
    "#Declared a variable factorial and assinged 1.\n",
    "factorial = 1\n",
    "\n",
    "#Checking, if the user inters the number less than 1\n",
    "if num < 0:\n",
    "    print(\"factorial does not exist for negative numbers\")\n",
    "    \n",
    "elif num == 0:\n",
    "    print(\"The factorial of 0 is 1\")\n",
    "    \n",
    "else:\n",
    "    for i in range(1, num+1):\n",
    "        factorial = factorial*1\n",
    "print(\"The Factorial of\", num, \"is\", factorial)    \n",
    "    "
   ]
  },
  {
   "cell_type": "markdown",
   "id": "6e7a4292",
   "metadata": {},
   "source": [
    "12. Write a python program to find whether a number is prime or composite."
   ]
  },
  {
   "cell_type": "code",
   "execution_count": 4,
   "id": "69b5fd22",
   "metadata": {},
   "outputs": [
    {
     "name": "stdout",
     "output_type": "stream",
     "text": [
      "Enter a number: 17\n",
      "17 is prime number\n"
     ]
    }
   ],
   "source": [
    "n = int(input(\"Enter a number: \"))\n",
    "\n",
    "if (n == 0 or n == 1):\n",
    "    print(n, \"Number is niether prime nor composite\")\n",
    "    \n",
    "elif n > 1:\n",
    "    for i in range(2, n):\n",
    "        if(n%i == 0):\n",
    "            print(n, \"is composite Number\")\n",
    "            break\n",
    "    else:\n",
    "        print(n, \"is prime number\")\n",
    "        \n",
    "else:\n",
    "    print(\"Please enter positive number only\")"
   ]
  },
  {
   "cell_type": "markdown",
   "id": "6e0643a6",
   "metadata": {},
   "source": [
    "13. Write a python program to check whether a given string is palindrome or not."
   ]
  },
  {
   "cell_type": "code",
   "execution_count": 9,
   "id": "661ffda0",
   "metadata": {},
   "outputs": [
    {
     "name": "stdout",
     "output_type": "stream",
     "text": [
      "Sting is Palindrome\n"
     ]
    }
   ],
   "source": [
    "str = 'MaDaM'\n",
    "\n",
    "#This string is reverse\n",
    "rev = reversed(str)\n",
    "\n",
    "if list(str) == list(rev):\n",
    "    print(\"Sting is Palindrome\")\n",
    "    \n",
    "else:\n",
    "    print(\"String is not Palindrome\")"
   ]
  },
  {
   "cell_type": "code",
   "execution_count": null,
   "id": "96932c96",
   "metadata": {},
   "outputs": [],
   "source": []
  }
 ],
 "metadata": {
  "kernelspec": {
   "display_name": "Python 3 (ipykernel)",
   "language": "python",
   "name": "python3"
  },
  "language_info": {
   "codemirror_mode": {
    "name": "ipython",
    "version": 3
   },
   "file_extension": ".py",
   "mimetype": "text/x-python",
   "name": "python",
   "nbconvert_exporter": "python",
   "pygments_lexer": "ipython3",
   "version": "3.9.7"
  }
 },
 "nbformat": 4,
 "nbformat_minor": 5
}
